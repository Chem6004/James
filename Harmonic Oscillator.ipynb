{
 "cells": [
  {
   "cell_type": "markdown",
   "metadata": {},
   "source": [
    "# Computational Exercise 1: A Vary Great, Very Harmonic, Wavefunction\n",
    "We will apply the Variational Method to the Harmonic Oscillator.  In particular, we will optimize\n",
    "the trial wavefunction given by \n",
    "\\begin{equation}\n",
    "\\Phi(x) = {\\rm exp}\\left( -\\alpha x^2 \\right),\n",
    "\\end{equation}\n",
    "where $\\alpha$ is an adjustable parameter that will be variationally optimized.  In particular, the goal\n",
    "will be to minimize the energy functional given by\n",
    "\\begin{equation}\n",
    "E[\\Phi(x)] = \\frac{\\int_{-\\infty}^{\\infty} \\Phi^* (x) \\: \\hat{H} \\: \\Phi(x) dx }{\\int_{-\\infty}^{\\infty} \\Phi^* (x) \\: \\Phi(x) dx }\n",
    "\\end{equation}\n",
    "by modulating the trial wavefunction through the adjustable parameter $\\alpha$.\n",
    "\n",
    "The Hamiltonian operator for Harmonic Oscillator is given by \n",
    "\\begin{equation}\n",
    "\\hat{H} = -\\frac{\\hbar^2}{2m} \\frac{d^2}{dx^2} + \\frac{1}{2} k \\: x^2.\n",
    "\\end{equation}\n",
    "We will use a system of natural units where $\\hbar = 1$, the mass of the particle $m = 1$, and the force constant of\n",
    "the potential $k = 1$.\n",
    "\n",
    "### Questions\n",
    "1. What is the optimal value of $E[\\Phi(x)]$ in natural units?  How does this value compare to the true ground state energy of the Harmonic Oscillator?\n",
    "2. What is the optimal value of $\\alpha$ in natural units?  How does $\\Phi(x)$ with this value of $\\alpha$ compare to the true ground state wavefunction?\n",
    "3. What is the kinetic energy expectation value of the optimized trial wavefunction in natural units?\n",
    "4. What is the potential energy expectation value of the optimized trial wavefunction in natural units?\n",
    "\n",
    "### (Hopefully) Helpful Hints\n",
    "You can represent your trial wavefunction numerically on the computer by creating an array of x-values, evaluating\n",
    "the formula for your trial wavefunction at each of those x-values, and then storing each of those function values in another array.  The following lines of code will do this using $numpy$ arrays and the $numpy.exp$ function. \n"
   ]
  },
  {
   "cell_type": "code",
   "execution_count": 42,
   "metadata": {},
   "outputs": [
    {
     "data": {
      "image/png": "[encoded data removed]",
      "text/plain": [
       "<Figure size 432x288 with 1 Axes>"
      ]
     },
     "metadata": {
      "needs_background": "light"
     },
     "output_type": "display_data"
    }
   ],
   "source": [
    "import numpy as np\n",
    "from matplotlib import pyplot as plt\n",
    "### create an array of 1000 x-values between x=-20 and x=20 atomic units\n",
    "x_array = np.linspace(-20,20,1000)\n",
    "### pick a trial value of alpha... might as well be 1 atomic unit!\n",
    "alpha = 1/2\n",
    "### evaluate your trial wavefunction at each of the x-values stored in the array called 'x_array'\n",
    "Phi = np.exp(-alpha * x_array**2)\n",
    "v_of_x = 1/2*x_array**2\n",
    "plt.plot(x_array, Phi, label = 'Phi')\n",
    "plt.plot(x_array, v_of_x, label = 'V(x)')\n",
    "plt.legend()\n",
    "plt.xlabel('Distance')\n",
    "plt.ylabel('Potential Energy')\n",
    "plt.ylim(0,2)\n",
    "plt.xlim(-3,3)\n",
    "plt.show()\n"
   ]
  },
  {
   "cell_type": "markdown",
   "metadata": {},
   "source": [
    "To evaluate the kinetic energy of a trial wavefunction, we will need to take the second derivative of the trial wavefunction.\n",
    "One way to take derivatives on a computer is to use the method of finite differences.  In particular, the forward finite difference\n",
    "approximation to the first derivative of your trial wavefunction $\\Phi(x)$ at the point $x_0$ can be written symbolically as\n",
    "\\begin{equation}\n",
    "\\frac{d \\Phi(x_0)}{dx} = \\frac{\\Phi(x_0 + dx) - \\Phi(x_0)}{dx}\n",
    "\\end{equation}\n",
    "where in our code, $dx$ will be determined by the range of x-values and the number of x-values used in defining\n",
    "$x_{array}$.\n",
    "\n",
    "Create a function called $dfdx$ that takes an array of x-values and an array of function values evaluated at each x-value and\n",
    "returns the first derivative of the function values with respect to x.  Then, show that calling this function in sequence can be used to compute the second derivative of an array of function values.  \n",
    "\n",
    "A skeleton of the function looks like this:"
   ]
  },
  {
   "cell_type": "code",
   "execution_count": 37,
   "metadata": {},
   "outputs": [],
   "source": [
    "def dfdx(fx, x):\n",
    "    ### loop through values of fx and x and use forward finite-differences \n",
    "    ### to compute the d/dx of fx at each point and store in an array called 'fxp'\n",
    "    ### make sure to poperly handle\n",
    "    ### the last point where f(x_0 + dx) is not stored\n",
    "     \n",
    " \n",
    "    ### create a numpy array called fxp that has the same length\n",
    "    ### and data type as the array of function values you are differentiating\n",
    "    fxp = np.zeros_like(fx)\n",
    "    \n",
    "    for i in range (0,len(x)-1):\n",
    "        #print(i)\n",
    "        num = fx[i + 1] - fx[i]\n",
    "        den = x[i + 1] - x[i]\n",
    "\n",
    "        slope = num / den\n",
    "        fxp[i] = slope\n",
    "     \n",
    "    ### once you have computed all fxp values, return the array!\n",
    "    return fxp\n",
    "\n",
    "def T_on_phi(fx, x):\n",
    "    fx_p = dfdx(fx,x)\n",
    "    fx_pp = dfdx(fx_p, x)\n",
    "    return (-1/2)*fx_pp\n",
    "\n",
    "def V_on_phi(fx,x):\n",
    "    return (1/2)*(x**2)*fx\n",
    "\n",
    "def H_on_phi(fx, x):\n",
    "    return T_on_phi(fx,x) + V_on_phi(fx, x)\n",
    "\n",
    "def E_phi(fx,x):\n",
    "    dx = x[1]-x[0]\n",
    "    Hp = H_on_phi(fx,x)\n",
    "    fx_star =np.conj(fx)\n",
    "    \n",
    "    num_func = fx_star*Hp\n",
    "    den_func = fx_star*fx\n",
    "    \n",
    "    ###rectangle loop goes here.\n",
    "    num_som = 0\n",
    "    den_som = 0\n",
    "    \n",
    "    for i in range(1,len(x)):\n",
    "        \n",
    "\n",
    "        \n",
    "        num_som = num_som + num_func[i] * dx\n",
    "        den_som = den_som + den_func[i] * dx\n",
    "    return num_som/den_som\n",
    "\n",
    "\n",
    "def T_exp(fx,x):\n",
    "    dx = x[1]-x[0]\n",
    "    Tp = T_on_phi(fx,x)\n",
    "    t_star = np.conj(fx)\n",
    "    num = t_star*Tp\n",
    "    num_som = 0\n",
    "    \n",
    "    for i in range(0,len(x)):\n",
    "        num_som = num_som + num[i] *dx\n",
    "        \n",
    "    return num_som\n",
    "\n",
    "def V_exp(fx,x):\n",
    "    dx = x[1]-x[0]\n",
    "    Vp = V_on_phi(fx,x)\n",
    "    v_star = np.conj(fx)\n",
    "    num = v_star*Vp\n",
    "    num_som = 0\n",
    "    \n",
    "    for i in range(0,len(x)):\n",
    "        num_som = num_som + num[i] *dx\n",
    "        \n",
    "    return num_som\n",
    "\n",
    "\n"
   ]
  },
  {
   "cell_type": "code",
   "execution_count": 27,
   "metadata": {},
   "outputs": [
    {
     "name": "stdout",
     "output_type": "stream",
     "text": [
      "0.4996495063588535\n"
     ]
    }
   ],
   "source": [
    "E_trial = E_phi(Phi,x_array)\n",
    "print(E_trial)\n",
    "\n"
   ]
  },
  {
   "cell_type": "code",
   "execution_count": 4,
   "metadata": {},
   "outputs": [
    {
     "data": {
      "image/png": "[encoded data removed]",
      "text/plain": [
       "<Figure size 432x288 with 1 Axes>"
      ]
     },
     "metadata": {
      "needs_background": "light"
     },
     "output_type": "display_data"
    }
   ],
   "source": [
    "hp = H_on_phi(Phi,x_array)\n",
    "plt.plot(x_array, hp)\n",
    "plt.show()"
   ]
  },
  {
   "cell_type": "markdown",
   "metadata": {},
   "source": [
    "And the calling sequence for $dfdx$ to compute the second derivative of a trial wavefunction we defined previously will look like this:"
   ]
  },
  {
   "cell_type": "code",
   "execution_count": 5,
   "metadata": {},
   "outputs": [
    {
     "data": {
      "image/png": "[encoded data removed]",
      "text/plain": [
       "<Figure size 432x288 with 1 Axes>"
      ]
     },
     "metadata": {
      "needs_background": "light"
     },
     "output_type": "display_data"
    }
   ],
   "source": [
    "### Call dfdx on Phi to get the first derivative of Phi\n",
    "Phi_p = dfdx(Phi, x_array)\n",
    "\n",
    "Phi_wa = -2 * alpha * x_array * Phi\n",
    "### Call dfdx on Phi_p to get the second derivative of Phi\n",
    "Phi_pp = dfdx(Phi_p, x_array)\n",
    "\n",
    "plt.plot(x_array, Phi_wa, 'red')\n",
    "plt.plot(x_array, Phi_p, 'b--')\n",
    "\n",
    "plt.show()"
   ]
  },
  {
   "cell_type": "markdown",
   "metadata": {},
   "source": [
    "Questions\n",
    "What is the optimal value of  𝐸[Φ(𝑥)]  in natural units? \n",
    "0.6235988543956816 atomic units\n",
    "\n",
    "How does this value compare to the true ground state energy of the Harmonic Oscillator?\n",
    "This value is greater than but close to the groundstate energy of the harmonic oscillator when En = (n+1/2) h_bar * Omega and Omega is the square root of k over m when k, m, and h_bar are all 1 in atomic units E_0 of the harmonic oscillator is 1/2.\n",
    "\n",
    "What is the optimal value of  𝛼  in natural units? How does  Φ(𝑥)  with this value of  𝛼  compare to the true ground state wavefunction?\n",
    "\n",
    "using guess and check the optimal value of alpha is 1/2 where E = .4996495 this is closer but less than the actual ground state of the harmonic oscillator and is lower than when we set alpha top 1.\n",
    "\n",
    "What is the kinetic energy expectation value of the optimized trial wavefunction in natural units?\n",
    "Kinetic energy expectation value is 0.442492228922411\n",
    "What is the potential energy expectation value of the optimized trial wavefunction in natural units?\n",
    "Potential energy expectation value is 0.4431134627263789"
   ]
  },
  {
   "cell_type": "code",
   "execution_count": 44,
   "metadata": {},
   "outputs": [
    {
     "name": "stdout",
     "output_type": "stream",
     "text": [
      "Kinetic energy expectation value is 0.442492228922411\n",
      "Potential energy expectation value is 0.4431134627263789\n",
      "0.442802845824395\n"
     ]
    }
   ],
   "source": [
    "print('Kinetic energy expectation value is',T_exp(Phi,x_array) )\n",
    "print('Potential energy expectation value is',V_exp(Phi, x_array))\n",
    "print((T_exp(Phi,x_array)+V_exp(Phi, x_array))/2)"
   ]
  },
  {
   "cell_type": "code",
   "execution_count": null,
   "metadata": {},
   "outputs": [],
   "source": []
  }
 ],
 "metadata": {
  "kernelspec": {
   "display_name": "Python 3",
   "language": "python",
   "name": "python3"
  },
  "language_info": {
   "codemirror_mode": {
    "name": "ipython",
    "version": 3
   },
   "file_extension": ".py",
   "mimetype": "text/x-python",
   "name": "python",
   "nbconvert_exporter": "python",
   "pygments_lexer": "ipython3",
   "version": "3.7.4"
  }
 },
 "nbformat": 4,
 "nbformat_minor": 2
}
