{
 "cells": [
  {
   "cell_type": "markdown",
   "metadata": {},
   "source": [
    "**Problems for Quantum Materials Chemistry – Due Friday, March 13th at 4:00 pm**\n",
    "A 1-time 10 point deduction will be made for problem sets submitted after 4:00 pm on Friday, March 8th.  \n",
    "\n",
    "Each question is worth 20 points.\n",
    "\n",
    "You are expected to adhere to the collaboration policy described in the syllabus.  As such, if you discuss strategies for solving problems with other students, you must declare this in the problem set solution you submit.  Sharing solutions with other students does not constitute acceptable collaboration, even if declared, and will be treated as academic dishonesty.\n"
   ]
  },
  {
   "cell_type": "code",
   "execution_count": 16,
   "metadata": {},
   "outputs": [],
   "source": [
    "#GLobal inputs for Problem set 1\n",
    "import numpy as np\n",
    "from matplotlib import pyplot\n",
    "import scipy as sp\n"
   ]
  },
  {
   "cell_type": "markdown",
   "metadata": {},
   "source": [
    "1.  Consider an electron in a 1-D box of length $L=1$ nm that has energy eigenstates given by \n",
    "\\begin{equation}\n",
    "\\psi_n(x) = \\sqrt{2} {\\rm sin}(n \\pi x)\n",
    "\\end{equation}\n",
    "when $x$ has units of nanometers.  Now consider that an atomically-precise hammer is used to deform the bottom of the box such that the electron feels an effective potential given by \n",
    "\\begin{equation}\n",
    "V(x) = V(x)= -2(x-0.5)^3+0.5.\n",
    "\\end{equation}\n",
    "\n",
    "    a.  Compute the energy exxpectation value of an electron described by $\\psi_1(x)$ after the box is deformed.\n",
    "\n",
    "    b.  Explain if you think the original energy eigenstates, $\\psi_n(x)$, are stationary \n",
    "states in the deformed box.  "
   ]
  },
  {
   "cell_type": "code",
   "execution_count": 17,
   "metadata": {},
   "outputs": [
    {
     "name": "stdout",
     "output_type": "stream",
     "text": [
      "[0.75 0.75 0.75 0.75 0.75 0.75 0.75 0.75 0.75]\n"
     ]
    }
   ],
   "source": [
    "# Code For Question 1\n",
    "\n",
    "#Global Variables\n",
    "L = 1 \n",
    "\n",
    "def H_ij(i, j):\n",
    "    ham_int = 0\n",
    "    if i==j:\n",
    "        ham_int = (2*((L-0.5)**3)+0.5) + (2/L)*np.sin((i*np.pi*5)/L)*np.sin((j*np.pi*5)/L)\n",
    "    else:\n",
    "        ham_int = (2/L)*np.sin((i*np.pi*5)/L)*np.sin((j*np.pi*5)/L)\n",
    "        \n",
    "    return ham_int\n",
    "\n",
    "H_mat = np.zeros((9,9))\n",
    "\n",
    "for i in range(1,10):\n",
    "    for j in range(1,10):\n",
    "        H_mat[i-1][j-1] = H_ij(i, j)\n",
    "\n",
    "#test\n",
    "#print(H_mat)\n",
    "#Trial Function\n",
    "c = np.zeros(9)\n",
    "\n",
    "\n",
    "#Dot Products\n",
    "Hc = np.dot(H_mat,c)\n",
    "E = np.dot(np.transpose(c),Hc)\n",
    "\n",
    "#Find Eigen Values\n",
    "E_opt, c_opt = np.linalg.eig(H_mat)\n",
    "\n",
    "print(E_opt)\n",
    "#######This Answer does not make sense!!!!!!!!"
   ]
  },
  {
   "cell_type": "markdown",
   "metadata": {},
   "source": [
    "Question 1\n",
    "    a.  Compute the energy exxpectation value of an electron described by $\\psi_1(x)$ after the box is deformed.\n",
    "    b.  Explain if you think the original energy eigenstates, $\\psi_n(x)$, are stationary \n",
    "states in the deformed box.\n",
    "\n",
    "a.)(Solve for E\n",
    "    \n",
    "b.) No the origional energy eigenstates are not stationary states in the deformed box for $\\psi_n(x)$ "
   ]
  },
  {
   "cell_type": "markdown",
   "metadata": {},
   "source": [
    "2.  Considering the modified box in Question 1, write down the Hamiltonian operator after the box has been modified.  Using this Hamiltonian, use the linear variational method and a bsis of the first 3 energy eigenstates of the ordinary particle in a box to estimate the ground state energy of the modified system."
   ]
  },
  {
   "cell_type": "markdown",
   "metadata": {},
   "source": [
    "3.  The predecessor to Hartree-Fock theory was the Hartree method, where the main difference is that the Hartree-Fock method includes anti-symmetry in the trial wavefunction by writing it as a Slater Determinant, while the Hartree method uses a simple product wavefunction that does not capture anti-symmetry.  In particular, for a minimal-basis model of H$_2$, the Hatree method's trial wavefunction is given by\n",
    "\\begin{equation}\n",
    "\\Psi_H = \\phi_1(x_1) \\phi_2(x_2)\n",
    "\\end{equation}\n",
    "while the Hartree-Fock trial wavefunction is given by \n",
    "\\begin{equation}\n",
    "\\Psi_{HF} = \\phi_1(x_1) \\phi_2(x_2) - \\phi_1(x_2) \\phi_2(x_1),\n",
    "\\end{equation}\n",
    "where $\\phi_1$ and $\\phi_2$ are molecular orbitals, and $x_1$ and $x_2$ denote the coordinates\n",
    "of electron 1 and electron 2, respectively.\n",
    "\n",
    "    Write an expression for the total energy expectation values of $\\Psi_H$ and $\\Psi_{HF}$ in terms of 1- and 2-electron integrals and comment on the differences.  In particular, which method do you think will yield the lower total energy?  Recall the Hamiltonian operator can be written in terms of 1- and 2-electron operators as\n",
    "\\begin{equation}\n",
    "\\hat{H} = \\sum_{i}^N \\hat{h}_i + \\sum_{i>j}^N \\hat{V}_{i,j},\n",
    "\\end{equation}\n",
    "    where $\\hat{h}_i$ is the 1-electron operator for electron $i$ and $\\hat{V}_{i,j}$ is the 2-electron operator for electrons $i$ and $j$."
   ]
  },
  {
   "cell_type": "markdown",
   "metadata": {},
   "source": [
    "4. Use the following function as a trial wavefunction for the particle-in-a-box groundstate:\n",
    "\\begin{equation}\n",
    "\\phi(x) = c_1 x (L - x) + c_2 x (L-x)^2 + c_3 x^4(L-x) + c_4 x^2(L-x)^2.\n",
    "\\end{equation}\n",
    "Compare the energy expectation value of $\\phi(x)$ to $\\psi_1(x)$, the true ground state of the particle in a box of length $L$.  Discuss whether or not this result is consistent with the Variational principle."
   ]
  },
  {
   "cell_type": "markdown",
   "metadata": {},
   "source": [
    "5.  The energy expression for second-order Moller-Plesset Perturbation Theory is \n",
    "\\begin{equation}\n",
    "E_{MP2} = 2 \\sum_{i,j,a,b}^N \\frac{\\langle ij | V | ab \\rangle \\langle ab | V | ij \\rangle}{\\epsilon_i + \\epsilon_j - \\epsilon_a - \\epsilon_b} - \\sum_{i,j,a,b}^N \\frac{\\langle ij | V | ab \\rangle \\langle ab | V | ji \\rangle}{\\epsilon_i + \\epsilon_j - \\epsilon_a - \\epsilon_b}\n",
    "\\end{equation}\n",
    "where $N$ is the number of molecular orbitals, $\\epsilon_p$ is the molecular orbital energy\n",
    "of orbital $p$, and $\\langle pq | V | rs \\rangle$ is the 2-electron integral\n",
    "involving orbitals $\\phi_p, \\phi_q, \\phi_r$, and $\\phi_s$.  \n",
    "\n",
    "**Explain how the computational cost of evaluating the MP2 energy scales with the number of molecular orbitals.**  "
   ]
  }
 ],
 "metadata": {
  "kernelspec": {
   "display_name": "Python 3",
   "language": "python",
   "name": "python3"
  },
  "language_info": {
   "codemirror_mode": {
    "name": "ipython",
    "version": 3
   },
   "file_extension": ".py",
   "mimetype": "text/x-python",
   "name": "python",
   "nbconvert_exporter": "python",
   "pygments_lexer": "ipython3",
   "version": "3.7.4"
  }
 },
 "nbformat": 4,
 "nbformat_minor": 2
}
